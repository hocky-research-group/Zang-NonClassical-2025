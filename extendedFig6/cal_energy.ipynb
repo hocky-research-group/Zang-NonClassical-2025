{
 "cells": [
  {
   "cell_type": "code",
   "execution_count": 30,
   "id": "e11e2944-cfee-46d2-9945-6cf21444eb46",
   "metadata": {},
   "outputs": [
    {
     "name": "stdout",
     "output_type": "stream",
     "text": [
      "/scratch/projects/hockygroup/sp6310/ionic_crystal/ionic_crystal/ExperimentalData/New_simulation2/corrected_pot2/charged_wall/SP-45/prod2_v2/bulk_LS4.5_FP0.5_RN105_BL10_DL5.15/trajectory_LS4.5_FP0.5_RN105_BL10_DL5.15_N4000000000.gsd\n",
      "/scratch/projects/hockygroup/sp6310/ionic_crystal/ionic_crystal/ExperimentalData/New_simulation2/corrected_pot2/charged_wall/fromGlenRun/LS4.5DL5.15/trajectory_LS4.5_FP0.5_RN105_BL10_DL5.15_N2000000000.gsd\n"
     ]
    }
   ],
   "source": [
    "import numpy as np\n",
    "import gsd\n",
    "import gsd.hoomd\n",
    "import os\n",
    "import glob\n",
    "import freud\n",
    "workdir1 = \"/scratch/projects/hockygroup/sp6310/ionic_crystal/ionic_crystal/ExperimentalData/New_simulation2/corrected_pot2/charged_wall/\\\n",
    "SP-45/prod2_v2/bulk_LS4.5_FP0.5_RN105_BL10_DL5.15\" #CsCl\n",
    "workdir2 = \"/scratch/projects/hockygroup/sp6310/ionic_crystal/ionic_crystal/ExperimentalData/New_simulation2/corrected_pot2/charged_wall/\\\n",
    "fromGlenRun/LS4.5DL5.15\" #Zanganite\n",
    "gsdfile1 = glob.glob(os.path.join(workdir1, \"*gsd\"))[0]\n",
    "gsdfile2 = glob.glob(os.path.join(workdir2, \"*gsd\"))[0]\n",
    "print(gsdfile1)\n",
    "print(gsdfile2)\n",
    "traj1 = gsd.hoomd.open(gsdfile1, mode = \"rb\")\n",
    "traj2 = gsd.hoomd.open(gsdfile2, mode = \"rb\")"
   ]
  },
  {
   "cell_type": "code",
   "execution_count": 31,
   "id": "38891244-5e3b-46a8-9537-1b930c3f036c",
   "metadata": {},
   "outputs": [],
   "source": [
    "def get_largestcluster(positions,typeid,box):\n",
    "    npart = len(positions)\n",
    "    cl = freud.cluster.Cluster()\n",
    "    cl.compute((box,positions), neighbors = {'r_max':290})\n",
    "    cl_indices = cl.cluster_idx\n",
    "    ind_lrg = np.where(cl_indices==0)[0]\n",
    "    pos_lrg = positions[ind_lrg]\n",
    "    type_lrg = typeid[ind_lrg]\n",
    "    \n",
    "    return pos_lrg, type_lrg\n",
    "\n",
    "    "
   ]
  },
  {
   "cell_type": "code",
   "execution_count": 32,
   "id": "33ca66cb-2da0-4020-bd09-35bc86c7d45d",
   "metadata": {},
   "outputs": [],
   "source": [
    "def addsheet(pos_lrg,box):\n",
    "    boxZmin = -box[2]/2\n",
    "    xmin,ymin = np.min(pos_lrg[:,[0,1]], axis=0)\n",
    "    xmax,ymax = np.max(pos_lrg[:,[0,1]], axis=0)\n",
    "    dS = 60.\n",
    "    rS = dS/2\n",
    "    posZ = boxZmin + 1.5*rS\n",
    "    min_x = xmin - 300.\n",
    "    max_x = xmax + 300.\n",
    "    min_y = ymin - 300.\n",
    "    max_y = ymax + 300. \n",
    "    dL = np.sqrt(dS**2 - rS**2)\n",
    "    posX1 = np.arange(min_x,max_x,dS)\n",
    "    posX2 = np.arange(min_x+rS, max_x-rS, dS)\n",
    "    posY1 = np.arange(min_y,max_y,2.*dL)\n",
    "    posY2 = np.arange(min_y+dL, max_y-dL,2.*dL)\n",
    "    pos_sheet = []\n",
    "    for i in range(len(posX1)):\n",
    "        for j in range(len(posY1)):\n",
    "            pos_sheet.append([posX1[i],posY1[j],posZ])\n",
    "    for i in range(len(posX2)):\n",
    "        for j in range(len(posY2)):\n",
    "            pos_sheet.append([posX2[i],posY2[j],posZ])\n",
    "    return pos_sheet\n"
   ]
  },
  {
   "cell_type": "code",
   "execution_count": 72,
   "id": "6b18f028-359b-4418-8fdd-9d6e019d9369",
   "metadata": {},
   "outputs": [],
   "source": [
    "def get_energy(r1,r2,sp1,sp2,r,rmax,dl):\n",
    "    #dl=5.5\n",
    "    mV_to_kBT = 25.7\n",
    "    joule_to_kBT = 4.11e-21\n",
    "    brush_length = 10.\n",
    "    brush_density = 0.09\n",
    "    ionic_radius  = 2./(1./r1 + 1./r2)\n",
    "    repulsion_radius = (r1 + r2)/2.\n",
    "    brush2 = brush_length*2\n",
    "    steric_prefactor = np.pi*16*repulsion_radius*(brush_length**2)*(brush_density**(3./2))/35.\n",
    "    permitivity = 8.85e-12 #Farad/M\n",
    "    dielectric_constant = 80.\n",
    "    ionic_radius_in_m = 1e-9*ionic_radius\n",
    "    r1_in_m = 1e-9*r1\n",
    "    r2_in_m = 1e-9*r2\n",
    "    surface_potentialN_in_V = sp1/1000\n",
    "    surface_potentialP_in_V = sp2/1000\n",
    "    electrostatic_prefactors = 2*np.pi*dielectric_constant*permitivity*ionic_radius_in_m/joule_to_kBT*surface_potentialN_in_V*surface_potentialP_in_V\n",
    "    h = r - (r1 + r2)\n",
    "    hcut = rmax - (r1 + r2)\n",
    "    a = electrostatic_prefactors/dl*np.exp(-hcut/dl)\n",
    "    b = -electrostatic_prefactors*np.exp(-hcut/dl) - hcut*a\n",
    "\n",
    "    ve = electrostatic_prefactors *np.exp(-h/dl) +a*h + b\n",
    "    vr = steric_prefactor*(28*((brush2/h)**.25-1) + 20./11*(1-(h/brush2)**2.75)+ 12*(h/brush2-1))\n",
    "    return ve, vr*(h<brush2)\n",
    "\n",
    "    \n",
    "    "
   ]
  },
  {
   "cell_type": "code",
   "execution_count": 210,
   "id": "401eee08-63d4-4fbe-8249-a982ee6cb0de",
   "metadata": {},
   "outputs": [
    {
     "name": "stdout",
     "output_type": "stream",
     "text": [
      "1051\n",
      "157\n",
      "160\n",
      "[-1.40043891e-01 -5.77569327e+00 -2.58402269e-02 -2.29367417e+00\n",
      " -7.38298965e-03 -4.72593639e-03 -1.22820096e-01 -6.43049554e-01\n",
      " -4.98999731e-01 -2.61278790e+00]\n",
      "[-0.          2.78164957 -0.         -0.         -0.         -0.\n",
      " -0.         -0.         -0.         -0.        ]\n",
      "-9.95604655254272\n"
     ]
    }
   ],
   "source": [
    "import matplotlib.pyplot as plt\n",
    "rP = 85.\n",
    "rN = 105.\n",
    "rS = 30.\n",
    "sP = 50.\n",
    "sN = -50\n",
    "sS = -50\n",
    "dl = 5.7\n",
    "rall = []\n",
    "rmax = rP +rS + 10*dl\n",
    "snap = traj2[-1]\n",
    "positions = snap.particles.position\n",
    "typeid = snap.particles.typeid\n",
    "box = snap.configuration.box\n",
    "pos_lrg, type_lrg = get_largestcluster(positions, typeid, box)\n",
    "print(len(pos_lrg))\n",
    "pos_sheet = addsheet(pos_lrg,box)\n",
    "#pos_layer1 = pos_lrg[pos_lrg[:,2] < -4800] #-3625] #-4800]\n",
    "#pos_layer2 = pos_lrg[(pos_lrg[:,2] > -4800) & (pos_lrg[:,2] < -4650)] #-3530)]#-4650)]\n",
    "pos_layer1 = pos_lrg[pos_lrg[:,2] < -3625] #-3625] #-4800]\n",
    "pos_layer2 = pos_lrg[(pos_lrg[:,2] > -3625) & (pos_lrg[:,2] < -3530)] #-3530)]#-4650)]\n",
    "print(len(pos_layer1))\n",
    "print(len(pos_layer2))\n",
    "\n",
    "for i in range(len(pos_layer1)):\n",
    "    pos = pos_layer1[i]\n",
    "    posbrd = np.broadcast_to(pos,(len(pos_sheet),3))\n",
    "    dr = posbrd - pos_sheet\n",
    "    r = np.sqrt(np.sum(dr**2, axis=1))\n",
    "    rnbr = r[r<rmax]\n",
    "    rall.extend(rnbr)\n",
    "rall = np.array(rall)\n",
    "ve, vr = get_energy(rP,rS,sP,sS,rall,rmax,dl)\n",
    "print(ve[0:10])\n",
    "print(vr[0:10])\n",
    "energy = (np.sum(ve) + np.sum(vr))/len(pos_layer1)\n",
    "print(energy)\n",
    "#print(np.sum(ve)/len(pos_layer1))\n",
    "#print(np.sum(vr)/len(pos_layer1))\n",
    "#hist, bin_edges = np.histogram(rall)\n",
    "#bins = (bin_edges[:-1] + bin_edges[1:])/2\n",
    "#plt.plot(bins, hist)"
   ]
  },
  {
   "cell_type": "code",
   "execution_count": 211,
   "id": "812abf0b-815b-4b01-9463-8345d2397c56",
   "metadata": {},
   "outputs": [
    {
     "name": "stdout",
     "output_type": "stream",
     "text": [
      "[ -5.4919767 -10.106902   -7.6490955 -10.731811   -9.102686   -9.215854\n",
      " -10.43144    -9.703306  -10.031791   -9.100402 ]\n",
      "[-0.0000000e+00  9.8796868e-01 -7.9593447e-05  1.7422291e+00\n",
      "  2.6084691e-01  3.1475091e-01  1.3492022e+00  6.2787700e-01\n",
      "  9.1329360e-01  2.5924408e-01]\n",
      "-29.5134666102707\n"
     ]
    }
   ],
   "source": [
    "rall = []\n",
    "rmax = rP + rN + (10*dl)\n",
    "for i in range(len(pos_layer1)):\n",
    "    pos = pos_layer1[i]\n",
    "    posbrd = np.broadcast_to(pos,(len(pos_layer2),3))\n",
    "    dr = posbrd - pos_layer2\n",
    "    r = np.sqrt(np.sum(dr**2, axis=1))\n",
    "    rnbr = r[r<rmax]\n",
    "    rall.extend(rnbr)\n",
    "rall = np.array(rall)\n",
    "ve, vr = get_energy(rP,rN,sP,sN,rall,rmax,dl)\n",
    "print(ve[0:10])\n",
    "print(vr[0:10])\n",
    "energy = (np.sum(ve) + np.sum(vr))/len(pos_layer1)\n",
    "print(energy)"
   ]
  },
  {
   "cell_type": "code",
   "execution_count": 212,
   "id": "5d6f6cc1-288b-40ba-a2a9-2c6e08f75bf8",
   "metadata": {},
   "outputs": [
    {
     "name": "stdout",
     "output_type": "stream",
     "text": [
      "[0.06349553 0.08072926 0.02131154 0.00473233 0.03251414 0.02022806\n",
      " 0.11097281 0.0152853  0.00162863 0.22516261]\n",
      "[-0. -0. -0. -0. -0. -0. -0. -0. -0. -0.]\n",
      "0.04878986565170774\n"
     ]
    }
   ],
   "source": [
    "rall = []\n",
    "rmax = rP + rP + (10*dl)\n",
    "for i in range(len(pos_layer1)):\n",
    "    pos = pos_layer1[i]\n",
    "    posbrd = np.broadcast_to(pos,(len(pos_layer1)-1,3))\n",
    "    pos_layer1_ = np.delete(pos_layer1, i, axis=0)\n",
    "    dr = posbrd - pos_layer1_\n",
    "    r = np.sqrt(np.sum(dr**2, axis=1))\n",
    "    rnbr = r[r<rmax]\n",
    "    rall.extend(rnbr)\n",
    "rall = np.array(rall)\n",
    "ve, vr = get_energy(rP,rP,sP,sP,rall,rmax,dl)\n",
    "print(ve[0:10])\n",
    "print(vr[0:10])\n",
    "energy = (np.sum(ve) + np.sum(vr))/len(pos_layer1)\n",
    "print(energy)"
   ]
  },
  {
   "cell_type": "code",
   "execution_count": 213,
   "id": "dbf50c7b-d50c-49a6-a246-efe7e67a838d",
   "metadata": {},
   "outputs": [
    {
     "name": "stdout",
     "output_type": "stream",
     "text": [
      "3.8300058666460965 0.0\n",
      "0.024394941825771316\n"
     ]
    }
   ],
   "source": [
    "rall = []\n",
    "rmax = rP + rP + (10*dl)\n",
    "vrall = 0\n",
    "veall = 0\n",
    "for i in range(len(pos_layer1)-1):\n",
    "    for j in range(i+1,len(pos_layer1)):\n",
    "        pos = pos_layer1[i]\n",
    "        posj = pos_layer1[j]\n",
    "        #posbrd = np.broadcast_to(pos,(len(pos_layer1)-1,3))\n",
    "        #pos_layer1_ = np.delete(pos_layer1, i, axis=0)\n",
    "        dr = pos - posj\n",
    "        r = np.sqrt(np.sum(dr**2))\n",
    "        if r < rmax:\n",
    "            \n",
    "        #rall.extend(r)\n",
    "        #rall = np.array(rall)\n",
    "            ve, vr = get_energy(rP,rP,sP,sP,r,rmax,dl)\n",
    "            vrall = vrall + vr\n",
    "            veall = veall + ve\n",
    "#energy = (np.sum(ve) + np.sum(vr))/len(pos_layer1)\n",
    "print(veall, vrall)\n",
    "print((veall + vrall)/len(pos_layer1))\n",
    "\n",
    "#print(energy)"
   ]
  },
  {
   "cell_type": "code",
   "execution_count": 49,
   "id": "ba196f09-13b7-4714-bb3d-8a3e6e98afe0",
   "metadata": {},
   "outputs": [
    {
     "name": "stdout",
     "output_type": "stream",
     "text": [
      "[]\n",
      "[]\n",
      "0.0\n"
     ]
    }
   ],
   "source": [
    "rall = []\n",
    "rmax = rN + rS + 10*dl\n",
    "for i in range(len(pos_layer2)):\n",
    "    pos = pos_layer2[i]\n",
    "    posbrd = np.broadcast_to(pos,(len(pos_sheet),3))\n",
    "    dr = posbrd - pos_sheet\n",
    "    r = np.sqrt(np.sum(dr**2, axis=1))\n",
    "    rnbr = r[r<rmax]\n",
    "    rall.extend(rnbr)\n",
    "rall = np.array(rall)\n",
    "ve, vr = get_energy(rN,rS,sN,sS,rall)\n",
    "print(ve[0:10])\n",
    "print(vr[0:10])\n",
    "energy = (np.sum(ve) + np.sum(vr))/len(pos_layer1)\n",
    "print(energy)"
   ]
  },
  {
   "cell_type": "code",
   "execution_count": 50,
   "id": "aeeece32-e00a-49cb-9b97-c2e185476916",
   "metadata": {},
   "outputs": [
    {
     "name": "stderr",
     "output_type": "stream",
     "text": [
      "/home/sp6310/.local/lib/python3.8/site-packages/numpy/core/getlimits.py:518: UserWarning: The value of the smallest subnormal for <class 'numpy.float64'> type is zero.\n",
      "  setattr(self, word, getattr(machar, word).flat[0])\n",
      "/home/sp6310/.local/lib/python3.8/site-packages/numpy/core/getlimits.py:89: UserWarning: The value of the smallest subnormal for <class 'numpy.float64'> type is zero.\n",
      "  return self._float_to_str(self.smallest_subnormal)\n"
     ]
    },
    {
     "data": {
      "text/plain": [
       "[<matplotlib.lines.Line2D at 0x1472c10d07c0>]"
      ]
     },
     "execution_count": 50,
     "metadata": {},
     "output_type": "execute_result"
    },
    {
     "data": {
      "image/png": "[encoded data removed]",
      "text/plain": [
       "<Figure size 432x288 with 1 Axes>"
      ]
     },
     "metadata": {
      "needs_background": "light"
     },
     "output_type": "display_data"
    }
   ],
   "source": [
    "x = np.array([1,2,3,4])\n",
    "y1 = np.array([-24.65,-25.50,-26.35,-27.20])\n",
    "y2 = np.array([-25.97,-26.80,-27.62,-28.45])\n",
    "import matplotlib.pyplot as plt\n",
    "plt.plot(x,y1)\n",
    "plt.plot(x,y2)"
   ]
  },
  {
   "cell_type": "code",
   "execution_count": 52,
   "id": "3a38ff37-62d6-46f5-b357-f85f9093bb37",
   "metadata": {},
   "outputs": [
    {
     "data": {
      "text/plain": [
       "[<matplotlib.lines.Line2D at 0x1472c0f9c910>]"
      ]
     },
     "execution_count": 52,
     "metadata": {},
     "output_type": "execute_result"
    },
    {
     "data": {
      "image/png": "[encoded data removed]",
      "text/plain": [
       "<Figure size 432x288 with 1 Axes>"
      ]
     },
     "metadata": {
      "needs_background": "light"
     },
     "output_type": "display_data"
    }
   ],
   "source": [
    "dy = y2-y1\n",
    "plt.plot(x,dy)"
   ]
  },
  {
   "cell_type": "code",
   "execution_count": null,
   "id": "6ca28790-3801-42c0-a1c6-0b0a980ee305",
   "metadata": {},
   "outputs": [],
   "source": []
  }
 ],
 "metadata": {
  "kernelspec": {
   "display_name": "py-3.8.6",
   "language": "python",
   "name": "py-3.8.6"
  },
  "language_info": {
   "codemirror_mode": {
    "name": "ipython",
    "version": 3
   },
   "file_extension": ".py",
   "mimetype": "text/x-python",
   "name": "python",
   "nbconvert_exporter": "python",
   "pygments_lexer": "ipython3",
   "version": "3.8.6"
  }
 },
 "nbformat": 4,
 "nbformat_minor": 5
}
